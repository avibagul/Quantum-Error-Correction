{
 "cells": [
  {
   "cell_type": "code",
   "execution_count": 1,
   "id": "9a4a7775-84a0-4aaa-b7fd-efb7e4c9a682",
   "metadata": {},
   "outputs": [
    {
     "name": "stderr",
     "output_type": "stream",
     "text": [
      "<frozen importlib._bootstrap>:219: RuntimeWarning: scipy._lib.messagestream.MessageStream size changed, may indicate binary incompatibility. Expected 56 from C header, got 64 from PyObject\n"
     ]
    }
   ],
   "source": [
    "import numpy as np\n",
    "\n",
    "# Importing standard Qiskit libraries\n",
    "from qiskit import QuantumCircuit, transpile, Aer, IBMQ\n",
    "from qiskit.tools.jupyter import *\n",
    "from qiskit.visualization import *\n",
    "from ibm_quantum_widgets import *\n",
    "from qiskit.providers.aer import QasmSimulator\n",
    "\n",
    "# Loading your IBM Quantum account(s)\n",
    "provider = IBMQ.load_account()"
   ]
  },
  {
   "cell_type": "code",
   "execution_count": 3,
   "id": "a61cdf6b-1dff-4dea-b53a-de45b4643430",
   "metadata": {},
   "outputs": [
    {
     "name": "stdout",
     "output_type": "stream",
     "text": [
      "                         \n",
      " code_qubit_0: ──■───────\n",
      "                 │       \n",
      " code_qubit_1: ──┼────■──\n",
      "               ┌─┴─┐┌─┴─┐\n",
      "ancilla_qubit: ┤ X ├┤ X ├\n",
      "               └───┘└───┘\n"
     ]
    }
   ],
   "source": [
    "from qiskit import *\n",
    "cq = QuantumRegister(2,'code_qubit')\n",
    "lq = QuantumRegister(1,'ancilla_qubit')\n",
    "qc = QuantumCircuit(cq,lq)\n",
    "qc.cx(cq[0],lq[0])\n",
    "qc.cx(cq[1],lq[0])\n",
    "print(qc)"
   ]
  },
  {
   "cell_type": "code",
   "execution_count": 4,
   "id": "076d3823-bf75-4bb6-8f5b-d99d364a5483",
   "metadata": {},
   "outputs": [
    {
     "data": {
      "image/png": "[encoded data removed]",
      "text/plain": [
       "<Figure size 312.573x204.68 with 1 Axes>"
      ]
     },
     "execution_count": 4,
     "metadata": {},
     "output_type": "execute_result"
    }
   ],
   "source": [
    "qc.draw(output='mpl')"
   ]
  },
  {
   "cell_type": "code",
   "execution_count": 5,
   "id": "d09e653f-cac1-461b-ac26-b70fb1f199e8",
   "metadata": {},
   "outputs": [
    {
     "name": "stdout",
     "output_type": "stream",
     "text": [
      "Collecting qiskit-ignis\n",
      "  Using cached qiskit_ignis-0.7.1-py3-none-any.whl (198 kB)\n",
      "Requirement already satisfied: numpy>=1.13 in /opt/conda/lib/python3.8/site-packages (from qiskit-ignis) (1.22.4)\n",
      "Requirement already satisfied: retworkx>=0.8.0 in /opt/conda/lib/python3.8/site-packages (from qiskit-ignis) (0.11.0)\n",
      "Requirement already satisfied: setuptools>=40.1.0 in /opt/conda/lib/python3.8/site-packages (from qiskit-ignis) (61.2.0)\n",
      "Requirement already satisfied: scipy!=0.19.1,>=0.19 in /opt/conda/lib/python3.8/site-packages (from qiskit-ignis) (1.8.0)\n",
      "Requirement already satisfied: qiskit-terra>=0.15.1 in /opt/conda/lib/python3.8/site-packages (from qiskit-ignis) (0.22.2)\n",
      "Requirement already satisfied: python-dateutil>=2.8.0 in /opt/conda/lib/python3.8/site-packages (from qiskit-terra>=0.15.1->qiskit-ignis) (2.8.2)\n",
      "Requirement already satisfied: stevedore>=3.0.0 in /opt/conda/lib/python3.8/site-packages (from qiskit-terra>=0.15.1->qiskit-ignis) (3.5.0)\n",
      "Requirement already satisfied: dill>=0.3 in /opt/conda/lib/python3.8/site-packages (from qiskit-terra>=0.15.1->qiskit-ignis) (0.3.4)\n",
      "Requirement already satisfied: psutil>=5 in /opt/conda/lib/python3.8/site-packages (from qiskit-terra>=0.15.1->qiskit-ignis) (5.9.0)\n",
      "Requirement already satisfied: symengine>=0.9 in /opt/conda/lib/python3.8/site-packages (from qiskit-terra>=0.15.1->qiskit-ignis) (0.9.2)\n",
      "Requirement already satisfied: ply>=3.10 in /opt/conda/lib/python3.8/site-packages (from qiskit-terra>=0.15.1->qiskit-ignis) (3.11)\n",
      "Requirement already satisfied: tweedledum<2.0,>=1.1 in /opt/conda/lib/python3.8/site-packages (from qiskit-terra>=0.15.1->qiskit-ignis) (1.1.1)\n",
      "Requirement already satisfied: sympy>=1.3 in /opt/conda/lib/python3.8/site-packages (from qiskit-terra>=0.15.1->qiskit-ignis) (1.10.1)\n",
      "Requirement already satisfied: six>=1.5 in /opt/conda/lib/python3.8/site-packages (from python-dateutil>=2.8.0->qiskit-terra>=0.15.1->qiskit-ignis) (1.16.0)\n",
      "Requirement already satisfied: pbr!=2.1.0,>=2.0.0 in /opt/conda/lib/python3.8/site-packages (from stevedore>=3.0.0->qiskit-terra>=0.15.1->qiskit-ignis) (5.8.1)\n",
      "Requirement already satisfied: mpmath>=0.19 in /opt/conda/lib/python3.8/site-packages (from sympy>=1.3->qiskit-terra>=0.15.1->qiskit-ignis) (1.2.1)\n",
      "Installing collected packages: qiskit-ignis\n",
      "Successfully installed qiskit-ignis-0.7.1\n",
      "Note: you may need to restart the kernel to use updated packages.\n"
     ]
    }
   ],
   "source": [
    "%pip install qiskit-ignis"
   ]
  },
  {
   "cell_type": "code",
   "execution_count": 6,
   "id": "02f6532f-9e6a-4eb4-96ed-ff327ab21461",
   "metadata": {},
   "outputs": [
    {
     "name": "stderr",
     "output_type": "stream",
     "text": [
      "/tmp/ipykernel_59/2472739805.py:1: DeprecationWarning: The qiskit.ignis package is deprecated and has been supersceded by the qiskit-experiments project. Refer to the migration guide: https://github.com/Qiskit/qiskit-ignis#migration-guide on how to migrate to the new project.\n",
      "  from qiskit.ignis.verification.topological_codes import RepetitionCode\n"
     ]
    }
   ],
   "source": [
    "from qiskit.ignis.verification.topological_codes import RepetitionCode\n",
    "from qiskit.ignis.verification.topological_codes import GraphDecoder\n",
    "from qiskit.ignis.verification.topological_codes import lookuptable_decoding, postselection_decoding"
   ]
  },
  {
   "cell_type": "code",
   "execution_count": 7,
   "id": "32876c51-d964-47db-acac-da324a24d9cf",
   "metadata": {},
   "outputs": [],
   "source": [
    "d = 3\n",
    "T = 2\n",
    "code = RepetitionCode(d,T)"
   ]
  },
  {
   "cell_type": "code",
   "execution_count": 8,
   "id": "2364fc90-0d30-4758-8e62-834c3810856f",
   "metadata": {},
   "outputs": [
    {
     "data": {
      "text/plain": [
       "{'code_qubit', 'link_qubit'}"
      ]
     },
     "execution_count": 8,
     "metadata": {},
     "output_type": "execute_result"
    }
   ],
   "source": [
    "code.qubit_registers"
   ]
  },
  {
   "cell_type": "code",
   "execution_count": 9,
   "id": "8d2ef9a5-ed03-46e7-b5ea-424e0d5a126e",
   "metadata": {},
   "outputs": [
    {
     "data": {
      "text/plain": [
       "QuantumRegister(3, 'code_qubit')"
      ]
     },
     "execution_count": 9,
     "metadata": {},
     "output_type": "execute_result"
    }
   ],
   "source": [
    "code.code_qubit"
   ]
  },
  {
   "cell_type": "code",
   "execution_count": 10,
   "id": "0d684868-31cf-4a7d-bb54-2dca1dea0d8d",
   "metadata": {},
   "outputs": [
    {
     "name": "stdout",
     "output_type": "stream",
     "text": [
      "\n",
      "========= logical 0 =========\n",
      "\n",
      "                    ┌───┐     ┌───┐     ┌─┐   ┌───┐     ┌───┐        ┌─┐      »\n",
      "      link_qubit_0: ┤ X ├─────┤ X ├─────┤M├───┤ X ├─────┤ X ├────────┤M├──────»\n",
      "                    └─┬─┘┌───┐└─┬─┘┌───┐└╥┘┌─┐└─┬─┘┌───┐└─┬─┘┌───┐   └╥┘┌─┐   »\n",
      "      link_qubit_1: ──┼──┤ X ├──┼──┤ X ├─╫─┤M├──┼──┤ X ├──┼──┤ X ├────╫─┤M├───»\n",
      "                      │  └─┬─┘  │  └─┬─┘ ║ └╥┘  │  └─┬─┘  │  └─┬─┘┌─┐ ║ └╥┘   »\n",
      "      code_qubit_0: ──■────┼────┼────┼───╫──╫───■────┼────┼────┼──┤M├─╫──╫────»\n",
      "                           │    │    │   ║  ║        │    │    │  └╥┘ ║  ║ ┌─┐»\n",
      "      code_qubit_1: ───────■────■────┼───╫──╫────────■────■────┼───╫──╫──╫─┤M├»\n",
      "                                     │   ║  ║                  │   ║  ║  ║ └╥┘»\n",
      "      code_qubit_2: ─────────────────■───╫──╫──────────────────■───╫──╫──╫──╫─»\n",
      "                                         ║  ║                      ║  ║  ║  ║ »\n",
      "round_0_link_bit_0: ═════════════════════╩══╬══════════════════════╬══╬══╬══╬═»\n",
      "                                            ║                      ║  ║  ║  ║ »\n",
      "round_0_link_bit_1: ════════════════════════╩══════════════════════╬══╬══╬══╬═»\n",
      "                                                                   ║  ║  ║  ║ »\n",
      "round_1_link_bit_0: ═══════════════════════════════════════════════╬══╩══╬══╬═»\n",
      "                                                                   ║     ║  ║ »\n",
      "round_1_link_bit_1: ═══════════════════════════════════════════════╬═════╩══╬═»\n",
      "                                                                   ║        ║ »\n",
      "        code_bit_0: ═══════════════════════════════════════════════╩════════╬═»\n",
      "                                                                            ║ »\n",
      "        code_bit_1: ════════════════════════════════════════════════════════╩═»\n",
      "                                                                              »\n",
      "        code_bit_2: ══════════════════════════════════════════════════════════»\n",
      "                                                                              »\n",
      "«                       \n",
      "«      link_qubit_0: ───\n",
      "«                       \n",
      "«      link_qubit_1: ───\n",
      "«                       \n",
      "«      code_qubit_0: ───\n",
      "«                       \n",
      "«      code_qubit_1: ───\n",
      "«                    ┌─┐\n",
      "«      code_qubit_2: ┤M├\n",
      "«                    └╥┘\n",
      "«round_0_link_bit_0: ═╬═\n",
      "«                     ║ \n",
      "«round_0_link_bit_1: ═╬═\n",
      "«                     ║ \n",
      "«round_1_link_bit_0: ═╬═\n",
      "«                     ║ \n",
      "«round_1_link_bit_1: ═╬═\n",
      "«                     ║ \n",
      "«        code_bit_0: ═╬═\n",
      "«                     ║ \n",
      "«        code_bit_1: ═╬═\n",
      "«                     ║ \n",
      "«        code_bit_2: ═╩═\n",
      "«                       \n",
      "\n",
      "========= logical 1 =========\n",
      "\n",
      "                         ┌───┐     ┌───┐     ┌─┐   ┌───┐     ┌───┐        ┌─┐»\n",
      "      link_qubit_0: ─────┤ X ├─────┤ X ├─────┤M├───┤ X ├─────┤ X ├────────┤M├»\n",
      "                         └─┬─┘┌───┐└─┬─┘┌───┐└╥┘┌─┐└─┬─┘┌───┐└─┬─┘┌───┐   └╥┘»\n",
      "      link_qubit_1: ───────┼──┤ X ├──┼──┤ X ├─╫─┤M├──┼──┤ X ├──┼──┤ X ├────╫─»\n",
      "                    ┌───┐  │  └─┬─┘  │  └─┬─┘ ║ └╥┘  │  └─┬─┘  │  └─┬─┘┌─┐ ║ »\n",
      "      code_qubit_0: ┤ X ├──■────┼────┼────┼───╫──╫───■────┼────┼────┼──┤M├─╫─»\n",
      "                    ├───┤       │    │    │   ║  ║        │    │    │  └╥┘ ║ »\n",
      "      code_qubit_1: ┤ X ├───────■────■────┼───╫──╫────────■────■────┼───╫──╫─»\n",
      "                    ├───┤                 │   ║  ║                  │   ║  ║ »\n",
      "      code_qubit_2: ┤ X ├─────────────────■───╫──╫──────────────────■───╫──╫─»\n",
      "                    └───┘                     ║  ║                      ║  ║ »\n",
      "round_0_link_bit_0: ══════════════════════════╩══╬══════════════════════╬══╬═»\n",
      "                                                 ║                      ║  ║ »\n",
      "round_0_link_bit_1: ═════════════════════════════╩══════════════════════╬══╬═»\n",
      "                                                                        ║  ║ »\n",
      "round_1_link_bit_0: ════════════════════════════════════════════════════╬══╩═»\n",
      "                                                                        ║    »\n",
      "round_1_link_bit_1: ════════════════════════════════════════════════════╬════»\n",
      "                                                                        ║    »\n",
      "        code_bit_0: ════════════════════════════════════════════════════╩════»\n",
      "                                                                             »\n",
      "        code_bit_1: ═════════════════════════════════════════════════════════»\n",
      "                                                                             »\n",
      "        code_bit_2: ═════════════════════════════════════════════════════════»\n",
      "                                                                             »\n",
      "«                             \n",
      "«      link_qubit_0: ─────────\n",
      "«                    ┌─┐      \n",
      "«      link_qubit_1: ┤M├──────\n",
      "«                    └╥┘      \n",
      "«      code_qubit_0: ─╫───────\n",
      "«                     ║ ┌─┐   \n",
      "«      code_qubit_1: ─╫─┤M├───\n",
      "«                     ║ └╥┘┌─┐\n",
      "«      code_qubit_2: ─╫──╫─┤M├\n",
      "«                     ║  ║ └╥┘\n",
      "«round_0_link_bit_0: ═╬══╬══╬═\n",
      "«                     ║  ║  ║ \n",
      "«round_0_link_bit_1: ═╬══╬══╬═\n",
      "«                     ║  ║  ║ \n",
      "«round_1_link_bit_0: ═╬══╬══╬═\n",
      "«                     ║  ║  ║ \n",
      "«round_1_link_bit_1: ═╩══╬══╬═\n",
      "«                        ║  ║ \n",
      "«        code_bit_0: ════╬══╬═\n",
      "«                        ║  ║ \n",
      "«        code_bit_1: ════╩══╬═\n",
      "«                           ║ \n",
      "«        code_bit_2: ═══════╩═\n",
      "«                             \n"
     ]
    }
   ],
   "source": [
    "for log in ['0','1']:\n",
    "    print('\\n========= logical',log,'=========\\n')\n",
    "    print( code.circuit[log] )"
   ]
  },
  {
   "cell_type": "code",
   "execution_count": 11,
   "id": "9be9939e-66d5-4599-b196-be1e7d44acf3",
   "metadata": {},
   "outputs": [],
   "source": [
    "empty_code = RepetitionCode(3,0)"
   ]
  },
  {
   "cell_type": "code",
   "execution_count": 13,
   "id": "f6ca0f92-c9ae-4c80-b177-391fac445e36",
   "metadata": {},
   "outputs": [
    {
     "name": "stdout",
     "output_type": "stream",
     "text": [
      "\n",
      "========= logical 0 =========\n",
      "\n",
      "              \n",
      "link_qubit_0: \n",
      "              \n",
      "link_qubit_1: \n",
      "              \n",
      "code_qubit_0: \n",
      "              \n",
      "code_qubit_1: \n",
      "              \n",
      "code_qubit_2: \n",
      "              \n",
      "\n",
      "========= logical 1 =========\n",
      "\n",
      "                   \n",
      "link_qubit_0: ─────\n",
      "                   \n",
      "link_qubit_1: ─────\n",
      "              ┌───┐\n",
      "code_qubit_0: ┤ X ├\n",
      "              ├───┤\n",
      "code_qubit_1: ┤ X ├\n",
      "              ├───┤\n",
      "code_qubit_2: ┤ X ├\n",
      "              └───┘\n"
     ]
    }
   ],
   "source": [
    "def print_circuits(code):\n",
    "    for log in ['0','1']:\n",
    "        print('\\n========= logical',log,'=========\\n')\n",
    "        print( code.circuit[log] )\n",
    "\n",
    "print_circuits(empty_code)"
   ]
  },
  {
   "cell_type": "code",
   "execution_count": 14,
   "id": "3b32a4f8-251e-4cc0-b8ff-1183ea456ae5",
   "metadata": {},
   "outputs": [
    {
     "name": "stdout",
     "output_type": "stream",
     "text": [
      "\n",
      "========= logical 0 =========\n",
      "\n",
      "                    ┌───┐     ┌───┐     ┌─┐   \n",
      "      link_qubit_0: ┤ X ├─────┤ X ├─────┤M├───\n",
      "                    └─┬─┘┌───┐└─┬─┘┌───┐└╥┘┌─┐\n",
      "      link_qubit_1: ──┼──┤ X ├──┼──┤ X ├─╫─┤M├\n",
      "                      │  └─┬─┘  │  └─┬─┘ ║ └╥┘\n",
      "      code_qubit_0: ──■────┼────┼────┼───╫──╫─\n",
      "                           │    │    │   ║  ║ \n",
      "      code_qubit_1: ───────■────■────┼───╫──╫─\n",
      "                                     │   ║  ║ \n",
      "      code_qubit_2: ─────────────────■───╫──╫─\n",
      "                                         ║  ║ \n",
      "round_0_link_bit_0: ═════════════════════╩══╬═\n",
      "                                            ║ \n",
      "round_0_link_bit_1: ════════════════════════╩═\n",
      "                                              \n",
      "\n",
      "========= logical 1 =========\n",
      "\n",
      "                         ┌───┐     ┌───┐     ┌─┐   \n",
      "      link_qubit_0: ─────┤ X ├─────┤ X ├─────┤M├───\n",
      "                         └─┬─┘┌───┐└─┬─┘┌───┐└╥┘┌─┐\n",
      "      link_qubit_1: ───────┼──┤ X ├──┼──┤ X ├─╫─┤M├\n",
      "                    ┌───┐  │  └─┬─┘  │  └─┬─┘ ║ └╥┘\n",
      "      code_qubit_0: ┤ X ├──■────┼────┼────┼───╫──╫─\n",
      "                    ├───┤       │    │    │   ║  ║ \n",
      "      code_qubit_1: ┤ X ├───────■────■────┼───╫──╫─\n",
      "                    ├───┤                 │   ║  ║ \n",
      "      code_qubit_2: ┤ X ├─────────────────■───╫──╫─\n",
      "                    └───┘                     ║  ║ \n",
      "round_0_link_bit_0: ══════════════════════════╩══╬═\n",
      "                                                 ║ \n",
      "round_0_link_bit_1: ═════════════════════════════╩═\n",
      "                                                   \n"
     ]
    }
   ],
   "source": [
    "empty_code.syndrome_measurement()\n",
    "print_circuits(empty_code)"
   ]
  },
  {
   "cell_type": "code",
   "execution_count": 15,
   "id": "22235e1d-85cc-4f27-87c1-c5e2f3c1ac2c",
   "metadata": {},
   "outputs": [
    {
     "name": "stdout",
     "output_type": "stream",
     "text": [
      "\n",
      "========= logical 0 =========\n",
      "\n",
      "                    ┌───┐     ┌───┐          ┌─┐   \n",
      "      link_qubit_0: ┤ X ├─────┤ X ├──────────┤M├───\n",
      "                    └─┬─┘┌───┐└─┬─┘┌───┐     └╥┘┌─┐\n",
      "      link_qubit_1: ──┼──┤ X ├──┼──┤ X ├──────╫─┤M├\n",
      "                      │  └─┬─┘  │  └─┬─┘┌───┐ ║ └╥┘\n",
      "      code_qubit_0: ──■────┼────┼────┼──┤ X ├─╫──╫─\n",
      "                           │    │    │  ├───┤ ║  ║ \n",
      "      code_qubit_1: ───────■────■────┼──┤ X ├─╫──╫─\n",
      "                                     │  ├───┤ ║  ║ \n",
      "      code_qubit_2: ─────────────────■──┤ X ├─╫──╫─\n",
      "                                        └───┘ ║  ║ \n",
      "round_0_link_bit_0: ══════════════════════════╩══╬═\n",
      "                                                 ║ \n",
      "round_0_link_bit_1: ═════════════════════════════╩═\n",
      "                                                   \n",
      "\n",
      "========= logical 1 =========\n",
      "\n",
      "                         ┌───┐     ┌───┐          ┌─┐   \n",
      "      link_qubit_0: ─────┤ X ├─────┤ X ├──────────┤M├───\n",
      "                         └─┬─┘┌───┐└─┬─┘┌───┐     └╥┘┌─┐\n",
      "      link_qubit_1: ───────┼──┤ X ├──┼──┤ X ├──────╫─┤M├\n",
      "                    ┌───┐  │  └─┬─┘  │  └─┬─┘┌───┐ ║ └╥┘\n",
      "      code_qubit_0: ┤ X ├──■────┼────┼────┼──┤ X ├─╫──╫─\n",
      "                    ├───┤       │    │    │  ├───┤ ║  ║ \n",
      "      code_qubit_1: ┤ X ├───────■────■────┼──┤ X ├─╫──╫─\n",
      "                    ├───┤                 │  ├───┤ ║  ║ \n",
      "      code_qubit_2: ┤ X ├─────────────────■──┤ X ├─╫──╫─\n",
      "                    └───┘                    └───┘ ║  ║ \n",
      "round_0_link_bit_0: ═══════════════════════════════╩══╬═\n",
      "                                                      ║ \n",
      "round_0_link_bit_1: ══════════════════════════════════╩═\n",
      "                                                        \n"
     ]
    }
   ],
   "source": [
    "empty_code.x()\n",
    "print_circuits(empty_code)"
   ]
  },
  {
   "cell_type": "code",
   "execution_count": 16,
   "id": "e054da24-3e74-46a1-b764-e516b5e518be",
   "metadata": {},
   "outputs": [
    {
     "name": "stdout",
     "output_type": "stream",
     "text": [
      "\n",
      "========= logical 0 =========\n",
      "\n",
      "                    ┌───┐     ┌───┐          ┌─┐            \n",
      "      link_qubit_0: ┤ X ├─────┤ X ├──────────┤M├────────────\n",
      "                    └─┬─┘┌───┐└─┬─┘┌───┐     └╥┘┌─┐         \n",
      "      link_qubit_1: ──┼──┤ X ├──┼──┤ X ├──────╫─┤M├─────────\n",
      "                      │  └─┬─┘  │  └─┬─┘┌───┐ ║ └╥┘┌─┐      \n",
      "      code_qubit_0: ──■────┼────┼────┼──┤ X ├─╫──╫─┤M├──────\n",
      "                           │    │    │  ├───┤ ║  ║ └╥┘┌─┐   \n",
      "      code_qubit_1: ───────■────■────┼──┤ X ├─╫──╫──╫─┤M├───\n",
      "                                     │  ├───┤ ║  ║  ║ └╥┘┌─┐\n",
      "      code_qubit_2: ─────────────────■──┤ X ├─╫──╫──╫──╫─┤M├\n",
      "                                        └───┘ ║  ║  ║  ║ └╥┘\n",
      "round_0_link_bit_0: ══════════════════════════╩══╬══╬══╬══╬═\n",
      "                                                 ║  ║  ║  ║ \n",
      "round_0_link_bit_1: ═════════════════════════════╩══╬══╬══╬═\n",
      "                                                    ║  ║  ║ \n",
      "        code_bit_0: ════════════════════════════════╩══╬══╬═\n",
      "                                                       ║  ║ \n",
      "        code_bit_1: ═══════════════════════════════════╩══╬═\n",
      "                                                          ║ \n",
      "        code_bit_2: ══════════════════════════════════════╩═\n",
      "                                                            \n",
      "\n",
      "========= logical 1 =========\n",
      "\n",
      "                         ┌───┐     ┌───┐          ┌─┐            \n",
      "      link_qubit_0: ─────┤ X ├─────┤ X ├──────────┤M├────────────\n",
      "                         └─┬─┘┌───┐└─┬─┘┌───┐     └╥┘┌─┐         \n",
      "      link_qubit_1: ───────┼──┤ X ├──┼──┤ X ├──────╫─┤M├─────────\n",
      "                    ┌───┐  │  └─┬─┘  │  └─┬─┘┌───┐ ║ └╥┘┌─┐      \n",
      "      code_qubit_0: ┤ X ├──■────┼────┼────┼──┤ X ├─╫──╫─┤M├──────\n",
      "                    ├───┤       │    │    │  ├───┤ ║  ║ └╥┘┌─┐   \n",
      "      code_qubit_1: ┤ X ├───────■────■────┼──┤ X ├─╫──╫──╫─┤M├───\n",
      "                    ├───┤                 │  ├───┤ ║  ║  ║ └╥┘┌─┐\n",
      "      code_qubit_2: ┤ X ├─────────────────■──┤ X ├─╫──╫──╫──╫─┤M├\n",
      "                    └───┘                    └───┘ ║  ║  ║  ║ └╥┘\n",
      "round_0_link_bit_0: ═══════════════════════════════╩══╬══╬══╬══╬═\n",
      "                                                      ║  ║  ║  ║ \n",
      "round_0_link_bit_1: ══════════════════════════════════╩══╬══╬══╬═\n",
      "                                                         ║  ║  ║ \n",
      "        code_bit_0: ═════════════════════════════════════╩══╬══╬═\n",
      "                                                            ║  ║ \n",
      "        code_bit_1: ════════════════════════════════════════╩══╬═\n",
      "                                                               ║ \n",
      "        code_bit_2: ═══════════════════════════════════════════╩═\n",
      "                                                                 \n"
     ]
    }
   ],
   "source": [
    "empty_code.readout()\n",
    "print_circuits(empty_code)"
   ]
  },
  {
   "cell_type": "code",
   "execution_count": 17,
   "id": "a5ce8f49-52de-475c-abfb-189b200be1a2",
   "metadata": {},
   "outputs": [
    {
     "name": "stdout",
     "output_type": "stream",
     "text": [
      "\n",
      "========= logical 0 =========\n",
      "\n",
      "{'000 00 00': 1024}\n",
      "\n",
      "========= logical 1 =========\n",
      "\n",
      "{'111 00 00': 1024}\n"
     ]
    }
   ],
   "source": [
    "circuits = code.get_circuit_list()\n",
    "job = execute( circuits, Aer.get_backend('qasm_simulator') )\n",
    "raw_results = {}\n",
    "for log in ['0','1']:\n",
    "    raw_results[log] = job.result().get_counts(log)\n",
    "    print('\\n========= logical',log,'=========\\n')\n",
    "    print(raw_results[log])"
   ]
  },
  {
   "cell_type": "code",
   "execution_count": 18,
   "id": "f315ac8c-83be-46a7-8bc0-d9eda20f9398",
   "metadata": {},
   "outputs": [
    {
     "data": {
      "text/plain": [
       "{'0': {'0 0  00 00 00': 1024}, '1': {'1 1  00 00 00': 1024}}"
      ]
     },
     "execution_count": 18,
     "metadata": {},
     "output_type": "execute_result"
    }
   ],
   "source": [
    "code.process_results( raw_results )"
   ]
  },
  {
   "cell_type": "code",
   "execution_count": null,
   "id": "60b175c5-8faf-4b2d-a88a-4f52363d4669",
   "metadata": {},
   "outputs": [],
   "source": []
  },
  {
   "cell_type": "code",
   "execution_count": 19,
   "id": "38c8b259-66af-4bf8-8b1e-721ddb0b381a",
   "metadata": {},
   "outputs": [],
   "source": [
    "from qiskit.providers.aer.noise import NoiseModel\n",
    "from qiskit.providers.aer.noise.errors import pauli_error, depolarizing_error\n",
    "\n",
    "def get_noise(p_meas,p_gate):\n",
    "\n",
    "    error_meas = pauli_error([('X',p_meas), ('I', 1 - p_meas)])\n",
    "    error_gate1 = depolarizing_error(p_gate, 1)\n",
    "    error_gate2 = error_gate1.tensor(error_gate1)\n",
    "\n",
    "    noise_model = NoiseModel()\n",
    "    noise_model.add_all_qubit_quantum_error(error_meas, \"measure\")\n",
    "    noise_model.add_all_qubit_quantum_error(error_gate1, [\"u1\", \"u2\", \"u3\"])\n",
    "    noise_model.add_all_qubit_quantum_error(error_gate2, [\"cx\"])\n",
    "\n",
    "    return noise_model"
   ]
  },
  {
   "cell_type": "code",
   "execution_count": 20,
   "id": "56d877eb-18c9-4591-b3cc-53b641bd9b31",
   "metadata": {},
   "outputs": [],
   "source": [
    "noise_model = get_noise(0.04,0.04)"
   ]
  },
  {
   "cell_type": "code",
   "execution_count": 21,
   "id": "23acd57d-1eee-4939-8030-fbb7a974e5bc",
   "metadata": {},
   "outputs": [],
   "source": [
    "def get_syndrome(code,noise_model,shots=1014):\n",
    "\n",
    "    circuits = code.get_circuit_list()\n",
    "\n",
    "    job = execute( circuits, Aer.get_backend('qasm_simulator'),noise_model=noise_model, shots=shots )\n",
    "    raw_results = {}\n",
    "    for log in ['0','1']:\n",
    "        raw_results[log] = job.result().get_counts(log)\n",
    "\n",
    "    return code.process_results( raw_results )"
   ]
  },
  {
   "cell_type": "code",
   "execution_count": 22,
   "id": "116d7f98-414f-42ef-b19e-80184626c369",
   "metadata": {},
   "outputs": [
    {
     "data": {
      "text/plain": [
       "{'0': {'0 1  01 00 00': 1,\n",
       "  '0 0  00 10 01': 2,\n",
       "  '1 1  10 00 01': 1,\n",
       "  '1 1  00 01 10': 1,\n",
       "  '1 1  00 10 01': 2,\n",
       "  '1 1  00 00 11': 1,\n",
       "  '1 0  01 10 10': 1,\n",
       "  '1 0  01 00 00': 1,\n",
       "  '1 0  00 01 11': 1,\n",
       "  '1 0  00 11 01': 1,\n",
       "  '1 0  10 10 10': 1,\n",
       "  '0 0  11 01 10': 1,\n",
       "  '0 1  01 01 10': 1,\n",
       "  '0 1  00 10 00': 3,\n",
       "  '0 1  00 00 10': 3,\n",
       "  '0 1  10 11 00': 3,\n",
       "  '1 1  10 11 01': 1,\n",
       "  '0 0  01 00 01': 5,\n",
       "  '0 1  01 01 01': 4,\n",
       "  '0 0  10 11 01': 7,\n",
       "  '0 0  00 01 10': 19,\n",
       "  '0 1  10 10 01': 2,\n",
       "  '0 0  01 01 00': 57,\n",
       "  '0 0  01 10 11': 1,\n",
       "  '0 0  00 00 11': 41,\n",
       "  '0 1  00 01 00': 10,\n",
       "  '0 0  10 11 10': 1,\n",
       "  '0 0  10 10 00': 47,\n",
       "  '0 0  10 01 00': 2,\n",
       "  '0 1  00 00 01': 31,\n",
       "  '0 0  00 00 00': 565,\n",
       "  '1 0  00 10 11': 3,\n",
       "  '0 0  01 11 01': 2,\n",
       "  '0 0  11 00 00': 1,\n",
       "  '1 0  00 10 00': 17,\n",
       "  '1 0  01 01 10': 2,\n",
       "  '0 0  01 11 10': 3,\n",
       "  '1 0  00 00 01': 2,\n",
       "  '0 0  01 01 11': 3,\n",
       "  '1 0  00 00 10': 36,\n",
       "  '0 0  11 10 10': 2,\n",
       "  '0 0  01 10 00': 8,\n",
       "  '0 0  00 01 01': 27,\n",
       "  '1 0  00 01 00': 2,\n",
       "  '0 0  00 10 10': 54,\n",
       "  '0 0  00 11 11': 2,\n",
       "  '0 0  10 00 10': 3,\n",
       "  '0 0  01 00 10': 3,\n",
       "  '0 0  00 11 00': 15,\n",
       "  '0 0  11 11 00': 4,\n",
       "  '0 0  10 10 11': 3,\n",
       "  '0 1  00 10 11': 5},\n",
       " '1': {'1 0  00 00 10': 2,\n",
       "  '1 1  01 11 01': 1,\n",
       "  '1 1  01 11 10': 2,\n",
       "  '0 1  10 10 10': 6,\n",
       "  '1 1  10 11 01': 2,\n",
       "  '0 1  10 00 00': 2,\n",
       "  '1 0  00 10 00': 2,\n",
       "  '1 1  10 10 11': 5,\n",
       "  '1 1  01 00 10': 3,\n",
       "  '1 1  10 00 10': 3,\n",
       "  '0 1  00 11 10': 2,\n",
       "  '0 1  00 11 01': 3,\n",
       "  '0 1  01 01 10': 2,\n",
       "  '0 1  00 10 00': 18,\n",
       "  '1 0  01 01 01': 4,\n",
       "  '0 0  10 10 11': 1,\n",
       "  '0 1  01 10 10': 2,\n",
       "  '1 0  01 11 11': 2,\n",
       "  '1 1  11 11 00': 3,\n",
       "  '1 1  00 00 11': 30,\n",
       "  '1 0  00 00 01': 36,\n",
       "  '1 1  00 11 00': 16,\n",
       "  '1 1  00 01 01': 44,\n",
       "  '1 1  11 00 00': 1,\n",
       "  '0 1  01 11 00': 5,\n",
       "  '0 1  01 00 00': 1,\n",
       "  '1 1  00 10 01': 9,\n",
       "  '0 1  00 01 11': 2,\n",
       "  '1 1  01 01 00': 61,\n",
       "  '1 0  00 01 11': 2,\n",
       "  '1 1  01 01 11': 4,\n",
       "  '1 0  00 11 01': 1,\n",
       "  '1 1  10 10 00': 45,\n",
       "  '0 0  01 10 11': 1,\n",
       "  '1 1  00 10 10': 54,\n",
       "  '0 1  00 01 00': 1,\n",
       "  '0 1  00 00 10': 36,\n",
       "  '0 0  00 00 11': 2,\n",
       "  '1 0  10 10 01': 2,\n",
       "  '0 1  00 00 01': 3,\n",
       "  '1 1  01 00 01': 4,\n",
       "  '1 0  10 11 00': 1,\n",
       "  '1 1  00 01 10': 12,\n",
       "  '1 0  00 01 00': 8,\n",
       "  '1 1  00 00 00': 553,\n",
       "  '1 0  00 10 11': 3,\n",
       "  '1 1  00 11 11': 5,\n",
       "  '1 1  01 10 00': 7}}"
      ]
     },
     "execution_count": 22,
     "metadata": {},
     "output_type": "execute_result"
    }
   ],
   "source": [
    "get_syndrome(code,noise_model)"
   ]
  },
  {
   "cell_type": "code",
   "execution_count": 23,
   "id": "fc1eea5e-0d5e-40cf-867e-f7e208ec18c7",
   "metadata": {},
   "outputs": [],
   "source": [
    "dec = GraphDecoder( RepetitionCode(4,2) )"
   ]
  },
  {
   "cell_type": "code",
   "execution_count": 24,
   "id": "14872dcf-271c-4e71-bee1-f8c3ebf776be",
   "metadata": {},
   "outputs": [
    {
     "data": {
      "text/plain": [
       "'1 1'"
      ]
     },
     "execution_count": 24,
     "metadata": {},
     "output_type": "execute_result"
    }
   ],
   "source": [
    "dec.matching('1 0  001 100 100')"
   ]
  },
  {
   "cell_type": "code",
   "execution_count": 25,
   "id": "f6ba117b-7faf-4bac-b0aa-bd1bc617c331",
   "metadata": {},
   "outputs": [
    {
     "name": "stdout",
     "output_type": "stream",
     "text": [
      "d = 3 ,log = 0\n",
      "logical error probability for matching      = 0.031494140625\n",
      "logical error probability for lookup table  = 0.0201416015625\n",
      "logical error probability for postselection = 0.00022291573785109228\n",
      "\n",
      "d = 3 ,log = 1\n",
      "logical error probability for matching      = 0.031494140625\n",
      "logical error probability for lookup table  = 0.0201416015625\n",
      "logical error probability for postselection = 0.00022366360993066427\n",
      "\n",
      "\n",
      "d = 4 ,log = 0\n",
      "logical error probability for matching      = 0.0198974609375\n",
      "logical error probability for lookup table  = 0.0079345703125\n",
      "logical error probability for postselection = 0.0\n",
      "\n",
      "d = 4 ,log = 1\n",
      "logical error probability for matching      = 0.020263671875\n",
      "logical error probability for lookup table  = 0.0074462890625\n",
      "logical error probability for postselection = 0.0\n",
      "\n",
      "\n",
      "d = 5 ,log = 0\n",
      "logical error probability for matching      = 0.010498046875\n",
      "logical error probability for lookup table  = 0.0023193359375\n",
      "logical error probability for postselection = 0.0\n",
      "\n",
      "d = 5 ,log = 1\n",
      "logical error probability for matching      = 0.010498046875\n",
      "logical error probability for lookup table  = 0.00244140625\n",
      "logical error probability for postselection = 0.0\n",
      "\n",
      "\n",
      "d = 6 ,log = 0\n",
      "logical error probability for matching      = 0.0040283203125\n",
      "logical error probability for lookup table  = 0.0001220703125\n",
      "logical error probability for postselection = 0.0\n",
      "\n",
      "d = 6 ,log = 1\n",
      "logical error probability for matching      = 0.00439453125\n",
      "logical error probability for lookup table  = 0.0001220703125\n",
      "logical error probability for postselection = 0.0\n",
      "\n",
      "\n",
      "d = 7 ,log = 0\n",
      "logical error probability for matching      = 0.003173828125\n",
      "logical error probability for lookup table  = 0.0\n",
      "logical error probability for postselection = 0.0\n",
      "\n",
      "d = 7 ,log = 1\n",
      "logical error probability for matching      = 0.002685546875\n",
      "logical error probability for lookup table  = 0.0\n",
      "logical error probability for postselection = 0.0\n",
      "\n",
      "\n"
     ]
    }
   ],
   "source": [
    "for d in range(3,8):\n",
    "\n",
    "    code = RepetitionCode(d,2)\n",
    "\n",
    "    results = get_syndrome(code,noise_model=noise_model,shots=8192)\n",
    "\n",
    "    dec = GraphDecoder(code)\n",
    "\n",
    "    logical_prob_match = dec.get_logical_prob(results)\n",
    "    logical_prob_lookup = lookuptable_decoding(results,results)\n",
    "    logical_prob_post = postselection_decoding(results)\n",
    "\n",
    "    for log in ['0','1']:\n",
    "        print('d =',d,',log =',log)\n",
    "        print('logical error probability for matching      =',logical_prob_match[log])\n",
    "        print('logical error probability for lookup table  =',logical_prob_lookup[log])\n",
    "        print('logical error probability for postselection =',logical_prob_post[log])\n",
    "        print('')\n",
    "    print('')"
   ]
  }
 ],
 "metadata": {
  "kernelspec": {
   "display_name": "Python 3 (ipykernel)",
   "language": "python",
   "name": "python3"
  },
  "language_info": {
   "codemirror_mode": {
    "name": "ipython",
    "version": 3
   },
   "file_extension": ".py",
   "mimetype": "text/x-python",
   "name": "python",
   "nbconvert_exporter": "python",
   "pygments_lexer": "ipython3",
   "version": "3.8.13"
  },
  "widgets": {
   "application/vnd.jupyter.widget-state+json": {
    "state": {
     "0a34c094ab4e47c58ec8f9344e956f0b": {
      "model_module": "@jupyter-widgets/base",
      "model_module_version": "1.2.0",
      "model_name": "LayoutModel",
      "state": {
       "width": "95px"
      }
     },
     "15489b4b207b4bbdac17b7cca40b57dd": {
      "model_module": "@jupyter-widgets/controls",
      "model_module_version": "1.5.0",
      "model_name": "ButtonStyleModel",
      "state": {}
     },
     "18ddb9ea7786424d8990eddaa26aed1c": {
      "model_module": "@jupyter-widgets/base",
      "model_module_version": "1.2.0",
      "model_name": "LayoutModel",
      "state": {
       "width": "145px"
      }
     },
     "1965f2e045cc48b8b85b8ae3f91a94f0": {
      "model_module": "@jupyter-widgets/controls",
      "model_module_version": "1.5.0",
      "model_name": "DescriptionStyleModel",
      "state": {
       "description_width": ""
      }
     },
     "1eb67045a195470692624ee977a7959a": {
      "model_module": "@jupyter-widgets/controls",
      "model_module_version": "1.5.0",
      "model_name": "DescriptionStyleModel",
      "state": {
       "description_width": ""
      }
     },
     "53d4fef5af5145e6917beebe4d92f4e5": {
      "model_module": "@jupyter-widgets/controls",
      "model_module_version": "1.5.0",
      "model_name": "GridBoxModel",
      "state": {
       "children": [
        "IPY_MODEL_e7ad2e01e0b047dc8e94a90dc9dbf501"
       ],
       "layout": "IPY_MODEL_aecacee7b9c94a6ea7e014a863752143"
      }
     },
     "5f872b8d459e4cccbe046bd9eed48fef": {
      "model_module": "@jupyter-widgets/base",
      "model_module_version": "1.2.0",
      "model_name": "LayoutModel",
      "state": {
       "margin": "0px 0px 0px 37px",
       "width": "600px"
      }
     },
     "66742dcc0181445fa2de9978c6a0218c": {
      "model_module": "@jupyter-widgets/controls",
      "model_module_version": "1.5.0",
      "model_name": "DescriptionStyleModel",
      "state": {
       "description_width": ""
      }
     },
     "6bff237927854417bef76a7e587fc271": {
      "model_module": "@jupyter-widgets/controls",
      "model_module_version": "1.5.0",
      "model_name": "HTMLModel",
      "state": {
       "layout": "IPY_MODEL_8b678f6dd16047759f6dee8250c9bf2b",
       "style": "IPY_MODEL_1965f2e045cc48b8b85b8ae3f91a94f0",
       "value": "<h5>Message</h5>"
      }
     },
     "739066958e2a4013855cf531919ddcac": {
      "model_module": "@jupyter-widgets/controls",
      "model_module_version": "1.5.0",
      "model_name": "DescriptionStyleModel",
      "state": {
       "description_width": ""
      }
     },
     "7ba8c012cafb48b5880174907b8e7b45": {
      "model_module": "@jupyter-widgets/controls",
      "model_module_version": "1.5.0",
      "model_name": "HTMLModel",
      "state": {
       "layout": "IPY_MODEL_e70515203bf34cad8b7307955a7517d9",
       "style": "IPY_MODEL_1eb67045a195470692624ee977a7959a",
       "value": "<p style='font-family: IBM Plex Sans, Arial, Helvetica, sans-serif; font-size: 20px; font-weight: medium;'>Circuit Properties</p>"
      }
     },
     "8b678f6dd16047759f6dee8250c9bf2b": {
      "model_module": "@jupyter-widgets/base",
      "model_module_version": "1.2.0",
      "model_name": "LayoutModel",
      "state": {}
     },
     "9af2019449b84fa285f3e7ebf019edf9": {
      "model_module": "@jupyter-widgets/controls",
      "model_module_version": "1.5.0",
      "model_name": "HTMLModel",
      "state": {
       "layout": "IPY_MODEL_ebbaa1545479447e8d2567ea467e24b0",
       "style": "IPY_MODEL_caf21844d89d46a7b5755c640a8260df",
       "value": "<h5>Job ID</h5>"
      }
     },
     "a14967ce486d4e92862900fdbbdbe0d7": {
      "model_module": "@jupyter-widgets/controls",
      "model_module_version": "1.5.0",
      "model_name": "HTMLModel",
      "state": {
       "layout": "IPY_MODEL_0a34c094ab4e47c58ec8f9344e956f0b",
       "style": "IPY_MODEL_739066958e2a4013855cf531919ddcac",
       "value": "<h5>Status</h5>"
      }
     },
     "a28cae607ed84e66a6e0b6687df16fb3": {
      "model_module": "@jupyter-widgets/controls",
      "model_module_version": "1.5.0",
      "model_name": "HTMLModel",
      "state": {
       "layout": "IPY_MODEL_18ddb9ea7786424d8990eddaa26aed1c",
       "style": "IPY_MODEL_e460b55876244671b5f513ee2d8ce8d2",
       "value": "<h5>Backend</h5>"
      }
     },
     "a389d2ecc81342eb98e6fecee0d6020c": {
      "model_module": "@jupyter-widgets/controls",
      "model_module_version": "1.5.0",
      "model_name": "HBoxModel",
      "state": {
       "children": [
        "IPY_MODEL_9af2019449b84fa285f3e7ebf019edf9",
        "IPY_MODEL_a28cae607ed84e66a6e0b6687df16fb3",
        "IPY_MODEL_a14967ce486d4e92862900fdbbdbe0d7",
        "IPY_MODEL_d97cdf5b28914bf89438317107bf891d",
        "IPY_MODEL_6bff237927854417bef76a7e587fc271"
       ],
       "layout": "IPY_MODEL_5f872b8d459e4cccbe046bd9eed48fef"
      }
     },
     "ae7b1b7a32084b749023e8cdb4b25f5c": {
      "model_module": "@jupyter-widgets/base",
      "model_module_version": "1.2.0",
      "model_name": "LayoutModel",
      "state": {
       "width": "70px"
      }
     },
     "aecacee7b9c94a6ea7e014a863752143": {
      "model_module": "@jupyter-widgets/base",
      "model_module_version": "1.2.0",
      "model_name": "LayoutModel",
      "state": {
       "grid_template_areas": "\n                                       \". . . . right \"\n                                        ",
       "grid_template_columns": "20% 20% 20% 20% 20%",
       "width": "100%"
      }
     },
     "caf21844d89d46a7b5755c640a8260df": {
      "model_module": "@jupyter-widgets/controls",
      "model_module_version": "1.5.0",
      "model_name": "DescriptionStyleModel",
      "state": {
       "description_width": ""
      }
     },
     "d97cdf5b28914bf89438317107bf891d": {
      "model_module": "@jupyter-widgets/controls",
      "model_module_version": "1.5.0",
      "model_name": "HTMLModel",
      "state": {
       "layout": "IPY_MODEL_ae7b1b7a32084b749023e8cdb4b25f5c",
       "style": "IPY_MODEL_66742dcc0181445fa2de9978c6a0218c",
       "value": "<h5>Queue</h5>"
      }
     },
     "e460b55876244671b5f513ee2d8ce8d2": {
      "model_module": "@jupyter-widgets/controls",
      "model_module_version": "1.5.0",
      "model_name": "DescriptionStyleModel",
      "state": {
       "description_width": ""
      }
     },
     "e70515203bf34cad8b7307955a7517d9": {
      "model_module": "@jupyter-widgets/base",
      "model_module_version": "1.2.0",
      "model_name": "LayoutModel",
      "state": {
       "margin": "0px 0px 10px 0px"
      }
     },
     "e7ad2e01e0b047dc8e94a90dc9dbf501": {
      "model_module": "@jupyter-widgets/controls",
      "model_module_version": "1.5.0",
      "model_name": "ButtonModel",
      "state": {
       "button_style": "primary",
       "description": "Clear",
       "layout": "IPY_MODEL_f1afad3b053349f39276eb1d21674a67",
       "style": "IPY_MODEL_15489b4b207b4bbdac17b7cca40b57dd"
      }
     },
     "ebbaa1545479447e8d2567ea467e24b0": {
      "model_module": "@jupyter-widgets/base",
      "model_module_version": "1.2.0",
      "model_name": "LayoutModel",
      "state": {
       "width": "190px"
      }
     },
     "f1afad3b053349f39276eb1d21674a67": {
      "model_module": "@jupyter-widgets/base",
      "model_module_version": "1.2.0",
      "model_name": "LayoutModel",
      "state": {
       "grid_area": "right",
       "padding": "0px 0px 0px 0px",
       "width": "70px"
      }
     }
    },
    "version_major": 2,
    "version_minor": 0
   }
  }
 },
 "nbformat": 4,
 "nbformat_minor": 5
}
