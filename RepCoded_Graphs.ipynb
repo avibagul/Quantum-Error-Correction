{
 "cells": [
  {
   "cell_type": "code",
   "execution_count": 1,
   "metadata": {},
   "outputs": [],
   "source": [
    "%matplotlib inline\n",
    "import matplotlib\n",
    "import numpy as np\n",
    "import matplotlib.pyplot as plt\n",
    "import pandas as pd\n",
    "\n",
    "from qiskit import execute, Aer\n",
    "from circuits import RepetitionCode\n",
    "from fitters import GraphDecoder, lookuptable_decoding, postselection_decoding"
   ]
  },
  {
   "cell_type": "code",
   "execution_count": 2,
   "metadata": {},
   "outputs": [],
   "source": [
    "from qiskit.providers.aer.noise import NoiseModel\n",
    "from qiskit.providers.aer.noise.errors import pauli_error, depolarizing_error\n",
    "\n",
    "def get_noise(p_meas,p_gate):\n",
    "\n",
    "    error_meas = pauli_error([('X',p_meas), ('I', 1 - p_meas)])\n",
    "    error_gate1 = depolarizing_error(p_gate, 1)\n",
    "    error_gate2 = error_gate1.tensor(error_gate1)\n",
    "\n",
    "    noise_model = NoiseModel()\n",
    "    noise_model.add_all_qubit_quantum_error(error_meas, \"measure\")\n",
    "    noise_model.add_all_qubit_quantum_error(error_gate1, [\"u1\", \"u2\", \"u3\"])\n",
    "    noise_model.add_all_qubit_quantum_error(error_gate2, [\"cx\"])\n",
    "\n",
    "    return noise_model\n"
   ]
  },
  {
   "cell_type": "code",
   "execution_count": 3,
   "metadata": {
    "scrolled": false
   },
   "outputs": [],
   "source": [
    "def get_syndrome(code,noise_model,shots=1014):\n",
    "    circuits = code.get_circuit_list()\n",
    "    job = execute( circuits, Aer.get_backend('qasm_simulator'),noise_model=noise_model, shots=shots )\n",
    "    raw_results = {}\n",
    "    for log in ['0','1']:\n",
    "        raw_results[log] = job.result().get_counts(log)\n",
    "\n",
    "    return raw_results"
   ]
  },
  {
   "cell_type": "code",
   "execution_count": 4,
   "metadata": {},
   "outputs": [],
   "source": [
    "def plot_qubit_probs(raw_res_dict, shots=4096):\n",
    "    # get \"probability of 1\" for logical 0 \n",
    "    for log in [\"0\", \"1\"]:\n",
    "        all_occurances = list(raw_res_dict[log].keys())\n",
    "        occurance_counts = list(raw_res_dict[log].values())\n",
    "        ar = [list(x.replace(\" \", \"\")) for x in all_occurances]\n",
    "        dat = pd.DataFrame(ar)\n",
    "        dat[\"counts\"] = pd.Series(occurance_counts)\n",
    "        qbitnum_prob = []\n",
    "        qbitnum_prob.append((dat.loc[(dat[0]==\"1\")][\"counts\"]).sum()/shots)\n",
    "        for i in range(d):\n",
    "            qbitnum_prob.append((dat.loc[(dat[i+d]==\"1\")][\"counts\"]).sum()/shots)\n",
    "            qbitnum_prob.append((dat.loc[(dat[i]==\"1\")][\"counts\"]).sum()/shots)\n",
    "        qbitnum_prob_map = {k:v for k,v in enumerate(qbitnum_prob)}\n",
    "        print(qbitnum_prob_map)\n",
    "        plt.plot(list(qbitnum_prob_map.values()), '-^')\n",
    "    plt.show()\n",
    "    # get \"probability of 1\" for logical 1"
   ]
  },
  {
   "cell_type": "code",
   "execution_count": 5,
   "metadata": {},
   "outputs": [],
   "source": [
    "def get_logical_prob(empty_code):\n",
    "    raw_results = get_syndrome(empty_code,noise_model=noise_model,shots=8192)\n",
    "    results = empty_code.process_results(raw_results)\n",
    "\n",
    "    dec = GraphDecoder(empty_code)\n",
    "\n",
    "    logical_prob_match = dec.get_logical_prob(results)\n",
    "    logical_prob_lookup = lookuptable_decoding(results,results)\n",
    "    logical_prob_post = postselection_decoding(results)\n",
    "\n",
    "    return logical_prob_match['0'], logical_prob_match['1']"
   ]
  },
  {
   "cell_type": "code",
   "execution_count": 6,
   "metadata": {
    "scrolled": false
   },
   "outputs": [
    {
     "name": "stdout",
     "output_type": "stream",
     "text": [
      "{0: 0.079345703125, 1: 0.1689453125, 2: 0.079345703125, 3: 0.075439453125, 4: 0.077880859375}\n",
      "{0: 0.92578125, 1: 0.169921875, 2: 0.92578125, 3: 0.080078125, 4: 0.916259765625}\n"
     ]
    },
    {
     "data": {
      "image/png": "[encoded data removed]",
      "text/plain": [
       "<Figure size 432x288 with 1 Axes>"
      ]
     },
     "metadata": {
      "needs_background": "light"
     },
     "output_type": "display_data"
    }
   ],
   "source": [
    "# d = 8\n",
    "T = 2\n",
    "for d in range(2,9):\n",
    "    empty_code = RepetitionCode(d,T)\n",
    "    noise_model = get_noise(0.04,0.04)\n",
    "    raw_results = get_syndrome(empty_code, noise_model, shots=4096)\n",
    "    plot_qubit_probs(raw_results, shots=4096)\n",
    "    get_logical_prob(empty_code)"
   ]
  }
 ],
 "metadata": {
  "kernelspec": {
   "display_name": "Python 3",
   "language": "python",
   "name": "python3"
  },
  "language_info": {
   "codemirror_mode": {
    "name": "ipython",
    "version": 3
   },
   "file_extension": ".py",
   "mimetype": "text/x-python",
   "name": "python",
   "nbconvert_exporter": "python",
   "pygments_lexer": "ipython3",
   "version": "3.8.10"
  }
 },
 "nbformat": 4,
 "nbformat_minor": 4
}
