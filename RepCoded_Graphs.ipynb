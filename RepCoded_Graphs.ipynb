{
 "cells": [
  {
   "cell_type": "code",
   "execution_count": 1,
   "metadata": {},
   "outputs": [],
   "source": [
    "%matplotlib inline\n",
    "import matplotlib\n",
    "import numpy as np\n",
    "import matplotlib.pyplot as plt\n",
    "\n",
    "from qiskit import execute, Aer\n",
    "from circuits import RepetitionCode\n",
    "from fitters import GraphDecoder, lookuptable_decoding, postselection_decoding"
   ]
  },
  {
   "cell_type": "code",
   "execution_count": 2,
   "metadata": {},
   "outputs": [],
   "source": [
    "from qiskit.providers.aer.noise import NoiseModel\n",
    "from qiskit.providers.aer.noise.errors import pauli_error, depolarizing_error\n",
    "\n",
    "def get_noise(p_meas,p_gate):\n",
    "\n",
    "    error_meas = pauli_error([('X',p_meas), ('I', 1 - p_meas)])\n",
    "    error_gate1 = depolarizing_error(p_gate, 1)\n",
    "    error_gate2 = error_gate1.tensor(error_gate1)\n",
    "\n",
    "    noise_model = NoiseModel()\n",
    "    noise_model.add_all_qubit_quantum_error(error_meas, \"measure\")\n",
    "    noise_model.add_all_qubit_quantum_error(error_gate1, [\"u1\", \"u2\", \"u3\"])\n",
    "    noise_model.add_all_qubit_quantum_error(error_gate2, [\"cx\"])\n",
    "\n",
    "    return noise_model\n",
    "noise_model = get_noise(0.04,0.04)"
   ]
  },
  {
   "cell_type": "code",
   "execution_count": 3,
   "metadata": {},
   "outputs": [],
   "source": [
    "d = 8\n",
    "T = 2\n",
    "# code = RepetitionCode(d,T)\n",
    "empty_code = RepetitionCode(d,T)"
   ]
  },
  {
   "cell_type": "code",
   "execution_count": 4,
   "metadata": {},
   "outputs": [
    {
     "data": {
      "text/plain": [
       "{'code_qubit', 'link_qubit'}"
      ]
     },
     "execution_count": 4,
     "metadata": {},
     "output_type": "execute_result"
    }
   ],
   "source": [
    "empty_code.qubit_registers"
   ]
  },
  {
   "cell_type": "code",
   "execution_count": 5,
   "metadata": {},
   "outputs": [
    {
     "data": {
      "text/plain": [
       "QuantumRegister(8, 'code_qubit')"
      ]
     },
     "execution_count": 5,
     "metadata": {},
     "output_type": "execute_result"
    }
   ],
   "source": [
    "empty_code.code_qubit"
   ]
  },
  {
   "cell_type": "code",
   "execution_count": 9,
   "metadata": {},
   "outputs": [],
   "source": []
  },
  {
   "cell_type": "code",
   "execution_count": 10,
   "metadata": {
    "scrolled": false
   },
   "outputs": [],
   "source": [
    "def get_syndrome(code,noise_model,shots=1014):\n",
    "    circuits = code.get_circuit_list()\n",
    "    job = execute( circuits, Aer.get_backend('qasm_simulator'),noise_model=noise_model, shots=shots )\n",
    "    raw_results = {}\n",
    "    for log in ['0','1']:\n",
    "        raw_results[log] = job.result().get_counts(log)\n",
    "\n",
    "    return raw_results\n",
    "raw_results = get_syndrome(empty_code, noise_model, shots=4096)"
   ]
  },
  {
   "cell_type": "code",
   "execution_count": 11,
   "metadata": {},
   "outputs": [
    {
     "name": "stdout",
     "output_type": "stream",
     "text": [
      "{0: 0.0830078125, 1: 0.1103515625, 2: 0.10986328125, 3: 0.10498046875, 4: 0.10888671875, 5: 0.1044921875, 6: 0.110107421875, 7: 0.07275390625, 8: 0.1923828125, 9: 0.1943359375, 10: 0.196044921875, 11: 0.19921875, 12: 0.18505859375, 13: 0.193603515625, 14: 0.1806640625, 15: 0.081298828125, 16: 0.08447265625, 17: 0.088134765625, 18: 0.098388671875, 19: 0.099609375, 20: 0.091552734375, 21: 0.098876953125}\n",
      "{0: 0.923583984375, 1: 0.887451171875, 2: 0.888671875, 3: 0.889404296875, 4: 0.893310546875, 5: 0.896728515625, 6: 0.89501953125, 7: 0.92626953125, 8: 0.1875, 9: 0.19287109375, 10: 0.197509765625, 11: 0.19140625, 12: 0.205078125, 13: 0.187255859375, 14: 0.171630859375, 15: 0.0791015625, 16: 0.092529296875, 17: 0.093994140625, 18: 0.093017578125, 19: 0.095947265625, 20: 0.0947265625, 21: 0.083984375}\n"
     ]
    },
    {
     "data": {
      "image/png": "[encoded data removed]",
      "text/plain": [
       "<Figure size 432x288 with 1 Axes>"
      ]
     },
     "metadata": {
      "needs_background": "light"
     },
     "output_type": "display_data"
    }
   ],
   "source": [
    "import numpy as np\n",
    "import pandas as pd\n",
    "import matplotlib.pyplot as plt\n",
    "def plot_qubit_probs(raw_res_dict):\n",
    "    # get \"probability of 1\" for logical 0 \n",
    "    for log in [\"0\", \"1\"]:\n",
    "        all_occurances = list(raw_res_dict[log].keys())\n",
    "        occurance_counts = list(raw_res_dict[log].values())\n",
    "        ar = [list(x.replace(\" \", \"\")) for x in all_occurances]\n",
    "        dat = pd.DataFrame(ar)\n",
    "        dat[\"counts\"] = pd.Series(occurance_counts)\n",
    "        qbitnum_prob_map = {}\n",
    "        for i in range(len(dat.columns) - 1):\n",
    "            qbitnum_prob_map[i] = (dat.loc[(dat[i]==\"1\")][\"counts\"]).sum()/trial_shots\n",
    "        print(qbitnum_prob_map)\n",
    "        plt.plot(list(qbitnum_prob_map.values()))\n",
    "    plt.show()\n",
    "    # get \"probability of 1\" for logical 1\n",
    "\n",
    "plot_qubit_probs(raw_results)"
   ]
  },
  {
   "cell_type": "code",
   "execution_count": 12,
   "metadata": {},
   "outputs": [
    {
     "data": {
      "text/plain": [
       "(0.0013427734375, 0.00146484375)"
      ]
     },
     "execution_count": 12,
     "metadata": {},
     "output_type": "execute_result"
    }
   ],
   "source": [
    "def get_logical_prob():\n",
    "    raw_results = get_syndrome(empty_code,noise_model=noise_model,shots=8192)\n",
    "    results = empty_code.process_results(raw_results)\n",
    "\n",
    "    dec = GraphDecoder(empty_code)\n",
    "\n",
    "    logical_prob_match = dec.get_logical_prob(results)\n",
    "    logical_prob_lookup = lookuptable_decoding(results,results)\n",
    "    logical_prob_post = postselection_decoding(results)\n",
    "\n",
    "#     for log in ['0','1']:\n",
    "#         print('d =',d,',log =',log)\n",
    "#         print('logical error probability for matching      =',logical_prob_match[log])\n",
    "#         print('logical error probability for lookup table  =',logical_prob_lookup[log])\n",
    "#         print('logical error probability for postselection =',logical_prob_post[log])\n",
    "#         print('')\n",
    "#     print('')\n",
    "    return logical_prob_match['0'], logical_prob_match['1']\n",
    "\n",
    "get_logical_prob()"
   ]
  },
  {
   "cell_type": "code",
   "execution_count": null,
   "metadata": {},
   "outputs": [],
   "source": []
  }
 ],
 "metadata": {
  "kernelspec": {
   "display_name": "Python 3",
   "language": "python",
   "name": "python3"
  },
  "language_info": {
   "codemirror_mode": {
    "name": "ipython",
    "version": 3
   },
   "file_extension": ".py",
   "mimetype": "text/x-python",
   "name": "python",
   "nbconvert_exporter": "python",
   "pygments_lexer": "ipython3",
   "version": "3.8.10"
  }
 },
 "nbformat": 4,
 "nbformat_minor": 4
}
